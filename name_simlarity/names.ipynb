{
 "cells": [
  {
   "cell_type": "code",
   "execution_count": 1,
   "id": "a99dd1fe-141e-4fc6-8513-a78de774d622",
   "metadata": {},
   "outputs": [
    {
     "name": "stderr",
     "output_type": "stream",
     "text": [
      "/home/kumarsau/venvs/jenv/lib/python3.10/site-packages/numpy/_core/getlimits.py:545: UserWarning: Signature b'\\x00\\xd0\\xcc\\xcc\\xcc\\xcc\\xcc\\xcc\\xfb\\xbf\\x00\\x00\\x00\\x00\\x00\\x00' for <class 'numpy.longdouble'> does not match any known type: falling back to type probe function.\n",
      "This warnings indicates broken support for the dtype!\n",
      "  machar = _get_machar(dtype)\n"
     ]
    }
   ],
   "source": [
    "import numpy as np\n",
    "import pandas as pd\n",
    "from deep_translator import GoogleTranslator"
   ]
  },
  {
   "cell_type": "code",
   "execution_count": 2,
   "id": "cfbd4d96-4b64-446e-a5bc-b6fd8e9a2ad8",
   "metadata": {},
   "outputs": [],
   "source": [
    "fp = \"/home/kumarsau/private/capula/pyhelp/names.csv\""
   ]
  },
  {
   "cell_type": "code",
   "execution_count": 3,
   "id": "04bfc35a-9ce2-47b0-a7a2-8cde3948276c",
   "metadata": {},
   "outputs": [],
   "source": [
    "df = pd.read_csv(fp)"
   ]
  },
  {
   "cell_type": "code",
   "execution_count": 4,
   "id": "0600e33b-52d5-4563-b33f-c6f8afa87152",
   "metadata": {},
   "outputs": [],
   "source": [
    "en_names = {}\n",
    "for x in df['shareholder_name'].unique():\n",
    "    en_names[x] = GoogleTranslator(source='auto', target='english').translate(x)\n",
    "df['en_shareholder_name'] = df['shareholder_name'].apply(lambda x: en_names.get(x))"
   ]
  },
  {
   "cell_type": "code",
   "execution_count": 5,
   "id": "c834b6d8-d5e8-4b9a-9dbd-9b15b6a4ef5d",
   "metadata": {},
   "outputs": [],
   "source": [
    "from math import floor, ceil\n",
    " \n",
    "def string_similarity_score(s1, s2):\n",
    "    if (s1 == s2):\n",
    "        return 1.0\n",
    "    # Length of two s\n",
    "    len1, len2 = len(s1), len(s2)\n",
    "    # Maximum distance upto which matching is allowed\n",
    "    max_dist = floor(max(len1, len2) / 2) - 1\n",
    "    # Count of matches\n",
    "    match = 0\n",
    "    # Hash for matches\n",
    "    hash_s1 = [0] * len(s1)\n",
    "    hash_s2 = [0] * len(s2)\n",
    " \n",
    "    # Traverse through the first\n",
    "    for i in range(len1):\n",
    "        # Check if there is any matches\n",
    "        for j in range(max(0, i - max_dist), \n",
    "                       min(len2, i + max_dist + 1)):\n",
    "            # If there is a match\n",
    "            if (s1[i] == s2[j] and hash_s2[j] == 0):\n",
    "                hash_s1[i] = 1\n",
    "                hash_s2[j] = 1\n",
    "                match += 1\n",
    "                break\n",
    " \n",
    "    # If there is no match\n",
    "    if (match == 0):\n",
    "        return 0.0\n",
    " \n",
    "    # Number of transpositions\n",
    "    t , point = 0, 0\n",
    "    for i in range(len1):\n",
    "        if (hash_s1[i]): \n",
    "            while (hash_s2[point] == 0):\n",
    "                point += 1\n",
    "            if (s1[i] != s2[point]):\n",
    "                t += 1\n",
    "            point += 1\n",
    "    t = t//2\n",
    " \n",
    "    return (match/ len1 + match / len2 + (match - t) / match)/ 3.0"
   ]
  },
  {
   "cell_type": "code",
   "execution_count": 6,
   "id": "fd14eb30-42f1-4e16-8956-496c8ea400aa",
   "metadata": {},
   "outputs": [],
   "source": [
    "def sanitize_en(name):\n",
    "    ignore_chars = \".,()!|:\"\n",
    "    name = name.lower()\n",
    "    name = name.translate(str.maketrans('','', ignore_chars)).strip().split(\" \")\n",
    "    name = [x for x in name if x]\n",
    "    name = name.translate(str.maketrans('０１２３４５６７８９', '0123456789'))\n",
    "    return name\n",
    "\n",
    "def optimal_string_alignment_distance(names1, names2):\n",
    "    tsc = 0\n",
    "    l1, l2 = len(names1), len(names2)\n",
    "    for i in range(l1):\n",
    "        sc = 0\n",
    "        for j in range(max(0, i-3), min(l2, i+3)): # search in neighbouring string \n",
    "            sc = max(sc, string_similarity_score(names1[i], names2[j]))\n",
    "        tsc += sc\n",
    "        # print(f\"names1[i] = {names1[i]}, sc = {sc}\")\n",
    "    return (tsc/max(len(names1), len(names2)))*min(len(names1), len(names2))/max(len(names1), len(names2))\n",
    "\n",
    "def get_similarity_score(name1, name2):\n",
    "    ignore_chars = \".,()!|:\"\n",
    "    name1 = sanitize_en(name1)\n",
    "    name2 = sanitize_en(name2)\n",
    "    return optimal_string_alignment_distance(name1, name2)"
   ]
  },
  {
   "cell_type": "code",
   "execution_count": null,
   "id": "8f4dd01d-a200-4096-8ee3-8a6f9e7cd50c",
   "metadata": {},
   "outputs": [],
   "source": []
  },
  {
   "cell_type": "code",
   "execution_count": 7,
   "id": "eef09d52-b0a6-467d-9ee4-cd833efa6424",
   "metadata": {},
   "outputs": [
    {
     "name": "stdout",
     "output_type": "stream",
     "text": [
      "The Master Trust Bank of Japan, Ltd. (Trust Account)\n",
      "Japan Trustee Services Bank, Ltd. (Trust Account)\n",
      "Japan Trustee Services Bank, Ltd. (Trust Account 5)\n",
      "JP MORGAN CHASE BANK 385151 (standing proxy: Mizuho Bank, Ltd.)\n",
      "NORTHERN TRUST CO. (AVFC) RE SILCHESTER INTERNATIONAL INVESTORS INTERNATIONAL VALUE EQUITY TRUST (Permanent agent: Hong Kong and Shanghai Bank Tokyo Branch)\n",
      "Japan Trustee Services Bank, Ltd. (Trust Account 7)\n",
      "STATE STREET BANK WEST CLIENT-TREATY 505234 (standing proxy: Mizuho Bank, Ltd.)\n",
      "NORTHERN TRUST CO. (AVFC) RE U.S. TAX EXEMPTED PENTION FUNDS (Permanent agent: Hong Kong and Shanghai Banking Corporation, Tokyo Branch)\n",
      "Japan Trustee Services Bank, Ltd. (Trust Account 1)\n",
      "SSBTC CLIENT OMNIBUS ACCOUNT (Permanent Agent: Hong Kong and Shanghai Bank Tokyo Branch)\n",
      "top_10_total\n",
      "treasury\n",
      "total\n",
      "Custody Bank of Japan Ltd. (Trust Account)\n",
      "SMBC Nikko Securities Inc.\n",
      "Custody Bank of Japan Ltd. (Trust Account 5)\n",
      "JP MORGAN CHASE BANK 385781 (standing proxy: Mizuho Bank, Ltd.)\n",
      "Custody Bank of Japan Ltd. (Trust Account 7)\n",
      "NORTHERN TRUST CO. (AVFC) RE U. S. TAX EXEMPTED PENSION FUNDS (Permanent agent: The Hong Kong and Shanghai Banking Corporation, Tokyo Branch)\n",
      "Custody Bank of Japan Ltd. (Trust Account 6)\n",
      "J.P. Morgan Securities Japan Co., Ltd.\n",
      "THE BANK OF NEW YORK MELLON AS DEPOSITARY BANK FOR DR HOLDERS (Permanent agent: Mitsubishi UFJ Bank, Ltd.)\n",
      "Nomura Group Employee Stock Ownership Plan\n",
      "GOVERNMENT OF NORWAY (Standing proxy: Citibank N.A. Tokyo Branch)\n",
      "STATE STREET BANK AND TRUST COMPANY 505001 (standing proxy: Mizuho Bank, Ltd.)\n",
      "NORTHERN TRUST CO. (AVFC) RE U.S. TAX EXEMPTED PENSION FUNDS (Permanent agent: Hong Kong and Shanghai Banking Corporation, Tokyo Branch)\n"
     ]
    }
   ],
   "source": [
    "env = en_names.values()\n",
    "print(\"\\n\".join(env))"
   ]
  },
  {
   "cell_type": "code",
   "execution_count": 8,
   "id": "f5509316-19a2-464a-b5e4-eb0e681b6c65",
   "metadata": {
    "scrolled": true
   },
   "outputs": [],
   "source": [
    "orig_strings = {}\n",
    "thr = 0.75\n",
    "# to be read from hardcoded files\n",
    "hardcoded_similar = []\n",
    "hardcoded_dissimilar = []\n",
    "\n",
    "for n in env:\n",
    "    # print(f\"\\n n = ||{n}||\\n\")\n",
    "    if len(orig_strings)==0:\n",
    "        orig_strings[n] = [n]\n",
    "    else:\n",
    "        init_score = 0\n",
    "        best_match_string = \"\"\n",
    "        for k in orig_strings.keys():\n",
    "            cur_score = max(init_score, get_similarity_score(n, k))\n",
    "            if init_score < cur_score:\n",
    "                init_score = cur_score\n",
    "                best_match_string = k\n",
    "            # print(f\"n = |{n}|, init_score = |{init_score}|, best_match_string = |{best_match_string}|, k = |{k}|\")\n",
    "\n",
    "        # print(f\"init_score = {init_score}, threshold = {thr}\")\n",
    "        if init_score > thr:\n",
    "            orig_strings[k].append(n)\n",
    "        else:\n",
    "            orig_strings[n] = [n]"
   ]
  },
  {
   "cell_type": "code",
   "execution_count": 9,
   "id": "cb55d4b2-ed0d-4de5-985a-fe500bc219c7",
   "metadata": {},
   "outputs": [
    {
     "name": "stdout",
     "output_type": "stream",
     "text": [
      "The Master Trust Bank of Japan, Ltd. (Trust Account)\n",
      "Japan Trustee Services Bank, Ltd. (Trust Account)\n",
      "JP MORGAN CHASE BANK 385151 (standing proxy: Mizuho Bank, Ltd.)\n",
      "NORTHERN TRUST CO. (AVFC) RE SILCHESTER INTERNATIONAL INVESTORS INTERNATIONAL VALUE EQUITY TRUST (Permanent agent: Hong Kong and Shanghai Bank Tokyo Branch)\n",
      "STATE STREET BANK WEST CLIENT-TREATY 505234 (standing proxy: Mizuho Bank, Ltd.)\n",
      "SSBTC CLIENT OMNIBUS ACCOUNT (Permanent Agent: Hong Kong and Shanghai Bank Tokyo Branch)\n",
      "top_10_total\n",
      "treasury\n",
      "total\n",
      "SMBC Nikko Securities Inc.\n",
      "Custody Bank of Japan Ltd. (Trust Account 5)\n",
      "J.P. Morgan Securities Japan Co., Ltd.\n",
      "THE BANK OF NEW YORK MELLON AS DEPOSITARY BANK FOR DR HOLDERS (Permanent agent: Mitsubishi UFJ Bank, Ltd.)\n",
      "Nomura Group Employee Stock Ownership Plan\n",
      "GOVERNMENT OF NORWAY (Standing proxy: Citibank N.A. Tokyo Branch)\n"
     ]
    }
   ],
   "source": [
    "print(\"\\n\".join(orig_strings.keys()))"
   ]
  },
  {
   "cell_type": "code",
   "execution_count": 10,
   "id": "b6cc2844-f9c2-4635-883a-c85457a564cc",
   "metadata": {},
   "outputs": [
    {
     "name": "stdout",
     "output_type": "stream",
     "text": [
      "key = The Master Trust Bank of Japan, Ltd. (Trust Account)\n",
      "values = ['The Master Trust Bank of Japan, Ltd. (Trust Account)']\n",
      "key = Japan Trustee Services Bank, Ltd. (Trust Account)\n",
      "values = ['Japan Trustee Services Bank, Ltd. (Trust Account)', 'Japan Trustee Services Bank, Ltd. (Trust Account 5)']\n",
      "key = JP MORGAN CHASE BANK 385151 (standing proxy: Mizuho Bank, Ltd.)\n",
      "values = ['JP MORGAN CHASE BANK 385151 (standing proxy: Mizuho Bank, Ltd.)']\n",
      "key = NORTHERN TRUST CO. (AVFC) RE SILCHESTER INTERNATIONAL INVESTORS INTERNATIONAL VALUE EQUITY TRUST (Permanent agent: Hong Kong and Shanghai Bank Tokyo Branch)\n",
      "values = ['NORTHERN TRUST CO. (AVFC) RE SILCHESTER INTERNATIONAL INVESTORS INTERNATIONAL VALUE EQUITY TRUST (Permanent agent: Hong Kong and Shanghai Bank Tokyo Branch)', 'Japan Trustee Services Bank, Ltd. (Trust Account 7)']\n",
      "key = STATE STREET BANK WEST CLIENT-TREATY 505234 (standing proxy: Mizuho Bank, Ltd.)\n",
      "values = ['STATE STREET BANK WEST CLIENT-TREATY 505234 (standing proxy: Mizuho Bank, Ltd.)', 'NORTHERN TRUST CO. (AVFC) RE U.S. TAX EXEMPTED PENTION FUNDS (Permanent agent: Hong Kong and Shanghai Banking Corporation, Tokyo Branch)', 'Japan Trustee Services Bank, Ltd. (Trust Account 1)']\n",
      "key = SSBTC CLIENT OMNIBUS ACCOUNT (Permanent Agent: Hong Kong and Shanghai Bank Tokyo Branch)\n",
      "values = ['SSBTC CLIENT OMNIBUS ACCOUNT (Permanent Agent: Hong Kong and Shanghai Bank Tokyo Branch)']\n",
      "key = top_10_total\n",
      "values = ['top_10_total']\n",
      "key = treasury\n",
      "values = ['treasury']\n",
      "key = total\n",
      "values = ['total', 'Custody Bank of Japan Ltd. (Trust Account)']\n",
      "key = SMBC Nikko Securities Inc.\n",
      "values = ['SMBC Nikko Securities Inc.']\n",
      "key = Custody Bank of Japan Ltd. (Trust Account 5)\n",
      "values = ['Custody Bank of Japan Ltd. (Trust Account 5)', 'JP MORGAN CHASE BANK 385781 (standing proxy: Mizuho Bank, Ltd.)', 'Custody Bank of Japan Ltd. (Trust Account 7)', 'NORTHERN TRUST CO. (AVFC) RE U. S. TAX EXEMPTED PENSION FUNDS (Permanent agent: The Hong Kong and Shanghai Banking Corporation, Tokyo Branch)', 'Custody Bank of Japan Ltd. (Trust Account 6)']\n",
      "key = J.P. Morgan Securities Japan Co., Ltd.\n",
      "values = ['J.P. Morgan Securities Japan Co., Ltd.']\n",
      "key = THE BANK OF NEW YORK MELLON AS DEPOSITARY BANK FOR DR HOLDERS (Permanent agent: Mitsubishi UFJ Bank, Ltd.)\n",
      "values = ['THE BANK OF NEW YORK MELLON AS DEPOSITARY BANK FOR DR HOLDERS (Permanent agent: Mitsubishi UFJ Bank, Ltd.)']\n",
      "key = Nomura Group Employee Stock Ownership Plan\n",
      "values = ['Nomura Group Employee Stock Ownership Plan']\n",
      "key = GOVERNMENT OF NORWAY (Standing proxy: Citibank N.A. Tokyo Branch)\n",
      "values = ['GOVERNMENT OF NORWAY (Standing proxy: Citibank N.A. Tokyo Branch)', 'STATE STREET BANK AND TRUST COMPANY 505001 (standing proxy: Mizuho Bank, Ltd.)', 'NORTHERN TRUST CO. (AVFC) RE U.S. TAX EXEMPTED PENSION FUNDS (Permanent agent: Hong Kong and Shanghai Banking Corporation, Tokyo Branch)']\n"
     ]
    }
   ],
   "source": [
    "for k in orig_strings.keys():\n",
    "    print(f\"key = {k}\")\n",
    "    print(f\"values = {orig_strings[k]}\")"
   ]
  },
  {
   "cell_type": "code",
   "execution_count": 12,
   "id": "a46a4af1-064e-4fc4-9f9d-1711127e25ba",
   "metadata": {},
   "outputs": [
    {
     "data": {
      "text/plain": [
       "0.8951517114782421"
      ]
     },
     "execution_count": 12,
     "metadata": {},
     "output_type": "execute_result"
    }
   ],
   "source": [
    "get_similarity_score(\"NORTHERN TRUST CO. (AVFC) RE U.S. TAX EXEMPTED PENTION FUNDS (Permanent agent: Hong Kong and Shanghai Banking Corporation, Tokyo Branch)\",\n",
    "                     \"NORTHERN TRUST CO. (AVFC) RE U. S. TAX EXEMPTED PENSION FUNDS (Permanent agent:  Hong Kong and Shanghai Banking Corporation, Tokyo Branch)\")"
   ]
  },
  {
   "cell_type": "code",
   "execution_count": null,
   "id": "52762cb6-2802-4160-be91-2610f6b672fc",
   "metadata": {},
   "outputs": [],
   "source": []
  },
  {
   "cell_type": "code",
   "execution_count": null,
   "id": "d0091b04-00bb-4f49-bef5-51ba5d15f007",
   "metadata": {},
   "outputs": [],
   "source": []
  },
  {
   "cell_type": "code",
   "execution_count": null,
   "id": "02029403-12f8-4de0-b0ed-88e22d35b595",
   "metadata": {},
   "outputs": [],
   "source": []
  }
 ],
 "metadata": {
  "kernelspec": {
   "display_name": "Python 3 (ipykernel)",
   "language": "python",
   "name": "python3"
  },
  "language_info": {
   "codemirror_mode": {
    "name": "ipython",
    "version": 3
   },
   "file_extension": ".py",
   "mimetype": "text/x-python",
   "name": "python",
   "nbconvert_exporter": "python",
   "pygments_lexer": "ipython3",
   "version": "3.10.12"
  }
 },
 "nbformat": 4,
 "nbformat_minor": 5
}
