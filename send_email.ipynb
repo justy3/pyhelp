{
 "cells": [
  {
   "cell_type": "code",
   "execution_count": 1,
   "id": "0a36b337-b74e-4ee4-b7cb-3d681ca7f968",
   "metadata": {
    "scrolled": true
   },
   "outputs": [
    {
     "name": "stderr",
     "output_type": "stream",
     "text": [
      "/home/kumarsau/venvs/jenv/lib/python3.10/site-packages/numpy/_core/getlimits.py:545: UserWarning: Signature b'\\x00\\xd0\\xcc\\xcc\\xcc\\xcc\\xcc\\xcc\\xfb\\xbf\\x00\\x00\\x00\\x00\\x00\\x00' for <class 'numpy.longdouble'> does not match any known type: falling back to type probe function.\n",
      "This warnings indicates broken support for the dtype!\n",
      "  machar = _get_machar(dtype)\n"
     ]
    }
   ],
   "source": [
    "import pandas as pd\n",
    "import numpy as np\n",
    "from datetime import datetime, timedelta\n",
    "import random"
   ]
  },
  {
   "cell_type": "code",
   "execution_count": 2,
   "id": "87535004-6330-47a7-aaeb-efcec8db7842",
   "metadata": {},
   "outputs": [],
   "source": [
    "# Sample data\n",
    "symbols = ['RELIANCE', 'TCS', 'INFY', 'HDFCBANK', 'ICICIBANK']\n",
    "strategies = ['Strategy_A', 'Strategy_B', 'Strategy_C', 'Strategy_D', 'Strategy_E']\n",
    "\n",
    "# Generate sample data\n",
    "n = 1000\n",
    "data = {\n",
    "    'ric': np.random.choice(symbols, n),\n",
    "    'date': [datetime.now() - timedelta(days=random.randint(0, 13)) for _ in range(n)],\n",
    "    'strategy': np.random.choice(strategies, n),\n",
    "    'qty': np.random.randint(1, 1000, n)\n",
    "}\n",
    "\n",
    "# Create DataFrame\n",
    "df = pd.DataFrame(data)"
   ]
  },
  {
   "cell_type": "code",
   "execution_count": 3,
   "id": "1ca979d8-27d1-4284-8671-2b52eaac0621",
   "metadata": {},
   "outputs": [],
   "source": [
    "# Drop the time part from the date column\n",
    "df['date'] = df['date'].dt.date\n",
    "\n",
    "# print(df.head())\n",
    "\n",
    "df = df.groupby(['ric', 'date', 'strategy'])['qty'].sum().reset_index()\n",
    "df.reset_index(inplace=True)\n",
    "\n",
    "dates = df['date'].drop_duplicates().tolist()\n",
    "\n",
    "df_list = []\n",
    "for date in dates:\n",
    "    df2  = df[df['date']==date]\n",
    "    df3 = df2[['ric', 'strategy', 'qty', 'date']]\n",
    "    df3.columns = pd.MultiIndex.from_product([[date], ['ric', 'strategy', 'qty', 'date']])\n",
    "    df3 = df3.drop('date', axis = 1, level = 1)\n",
    "    # print(df3)\n",
    "    df_list.append(df3)\n",
    "    \n",
    "df_res = df_list[0]\n",
    "for i in range(len(df_list)-1):\n",
    "    df_res = pd.concat([df_res, df_list[i+1]], axis=0, ignore_index=True)\n",
    "    \n",
    "df_sorted = df_res.copy()\n",
    "for date in dates:\n",
    "\tdf_sorted[date] = df_sorted[date].sort_values(by='ric').reset_index(drop=True)\n",
    "df_sorted = df_sorted.dropna(axis = 0, how = 'all')\n",
    "df_sorted = df_sorted.fillna(\"\") "
   ]
  },
  {
   "cell_type": "code",
   "execution_count": null,
   "id": "96bee38c-1966-4e3d-a676-df259d74c38b",
   "metadata": {},
   "outputs": [],
   "source": []
  },
  {
   "cell_type": "code",
   "execution_count": 4,
   "id": "5a9beab9-2807-43a5-bc7a-e3614c4dd0b2",
   "metadata": {},
   "outputs": [],
   "source": [
    "from IPython.display import display, HTML"
   ]
  },
  {
   "cell_type": "code",
   "execution_count": 25,
   "id": "18f359c7-d0cd-4b7f-899e-796864df04c8",
   "metadata": {},
   "outputs": [],
   "source": [
    "# Convert DataFrame to HTML\n",
    "html = df_sorted.to_html()\n",
    "\n",
    "# Create HTML with CSS for scrollable table\n",
    "scrollable_html = f\"\"\"\n",
    "<p style=\"color:rgba(0,0,0,1);\">Hi. some text for you to insert</p>\n",
    "<style>\n",
    "    .scrollable-table {{\n",
    "        max-height: 400px;\n",
    "        overflow-y: scroll;\n",
    "        display: block;\n",
    "    }}\n",
    "    table {{\n",
    "        width: 100%;\n",
    "        border-collapse: collapse;\n",
    "    }}\n",
    "    th, td {{\n",
    "        border: 1px solid black;\n",
    "        padding: 5px;\n",
    "        text-align: left;\n",
    "    }}\n",
    "</style>\n",
    "<div class=\"scrollable-table\">\n",
    "    {html}\n",
    "</div>\n",
    "\"\"\""
   ]
  },
  {
   "cell_type": "code",
   "execution_count": 26,
   "id": "9889e6fc-a2fa-4a20-8a06-3385d025f754",
   "metadata": {},
   "outputs": [],
   "source": [
    "import os\n",
    "import ssl\n",
    "import smtplib\n",
    "from email.message import EmailMessage\n",
    "from email.mime.multipart import MIMEMultipart\n",
    "from email.mime.text import MIMEText"
   ]
  },
  {
   "cell_type": "code",
   "execution_count": 27,
   "id": "52ab9eb6-df10-48b5-addd-bc163d13b88c",
   "metadata": {},
   "outputs": [],
   "source": [
    "sender = \"ohboy3947@gmail.com\"\n",
    "password = \"REPLACE_PASSWORD\"\n",
    "receiver = \"saurabhiitd3@gmail.com\""
   ]
  },
  {
   "cell_type": "code",
   "execution_count": 28,
   "id": "b0e7eb3f-13dd-424d-a672-3c7210d93aae",
   "metadata": {},
   "outputs": [],
   "source": [
    "subject = \"test dataframe4\""
   ]
  },
  {
   "cell_type": "code",
   "execution_count": 29,
   "id": "612a94da-57a4-4ee4-86bf-eaf7f9e78e56",
   "metadata": {},
   "outputs": [],
   "source": [
    "msg = MIMEMultipart('alternative')\n",
    "msg['Subject'] = subject\n",
    "msg['From'] = sender\n",
    "msg['To'] = receiver"
   ]
  },
  {
   "cell_type": "code",
   "execution_count": 30,
   "id": "8032c077-e67e-4e1a-a06d-3b194f700dba",
   "metadata": {},
   "outputs": [],
   "source": [
    "# Create the body of the message (a plain-text and an HTML version).\n",
    "# Attach parts into message container.\n",
    "# According to RFC 2046, the last part of a multipart message, in this case\n",
    "# the HTML message, is best and preferred.\n",
    "msg.attach(MIMEText(scrollable_html, 'html'))"
   ]
  },
  {
   "cell_type": "code",
   "execution_count": 31,
   "id": "eeae3d6f-8856-42b4-8f4e-99907b879fc1",
   "metadata": {},
   "outputs": [],
   "source": [
    "context = ssl.create_default_context()\n",
    "smtp = smtplib.SMTP_SSL('smtp.gmail.com', 465, context=context)"
   ]
  },
  {
   "cell_type": "code",
   "execution_count": 32,
   "id": "b8c6fdef-1813-4671-91e4-94a8bc7ea301",
   "metadata": {},
   "outputs": [
    {
     "data": {
      "text/plain": [
       "{}"
      ]
     },
     "execution_count": 32,
     "metadata": {},
     "output_type": "execute_result"
    }
   ],
   "source": [
    "smtp.login(sender, password)\n",
    "smtp.sendmail(sender, receiver, msg.as_string())"
   ]
  },
  {
   "cell_type": "code",
   "execution_count": null,
   "id": "bf6740f8-3ae1-4220-a92b-ca07b4b90617",
   "metadata": {},
   "outputs": [],
   "source": []
  }
 ],
 "metadata": {
  "kernelspec": {
   "display_name": "Python 3 (ipykernel)",
   "language": "python",
   "name": "python3"
  },
  "language_info": {
   "codemirror_mode": {
    "name": "ipython",
    "version": 3
   },
   "file_extension": ".py",
   "mimetype": "text/x-python",
   "name": "python",
   "nbconvert_exporter": "python",
   "pygments_lexer": "ipython3",
   "version": "3.10.12"
  }
 },
 "nbformat": 4,
 "nbformat_minor": 5
}
