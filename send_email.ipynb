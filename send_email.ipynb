{
 "cells": [
  {
   "cell_type": "code",
   "execution_count": 1,
   "id": "0a36b337-b74e-4ee4-b7cb-3d681ca7f968",
   "metadata": {},
   "outputs": [
    {
     "name": "stderr",
     "output_type": "stream",
     "text": [
      "/home/kumarsau/venvs/jenv/lib/python3.10/site-packages/numpy/_core/getlimits.py:545: UserWarning: Signature b'\\x00\\xd0\\xcc\\xcc\\xcc\\xcc\\xcc\\xcc\\xfb\\xbf\\x00\\x00\\x00\\x00\\x00\\x00' for <class 'numpy.longdouble'> does not match any known type: falling back to type probe function.\n",
      "This warnings indicates broken support for the dtype!\n",
      "  machar = _get_machar(dtype)\n"
     ]
    }
   ],
   "source": [
    "import pandas as pd\n",
    "import numpy as np\n",
    "from datetime import datetime, timedelta\n",
    "import random"
   ]
  },
  {
   "cell_type": "markdown",
   "id": "e5ed719d-1ad6-4f77-a6de-26a42c83ba20",
   "metadata": {},
   "source": [
    "#### sample data generation"
   ]
  },
  {
   "cell_type": "code",
   "execution_count": 2,
   "id": "87535004-6330-47a7-aaeb-efcec8db7842",
   "metadata": {},
   "outputs": [],
   "source": [
    "# Sample data\n",
    "symbols = ['RELIANCE', 'TCS', 'INFY', 'HDFCBANK', 'ICICIBANK']\n",
    "strategies = ['Strategy_A', 'Strategy_B', 'Strategy_C', 'Strategy_D', 'Strategy_E']\n",
    "\n",
    "# Generate sample data\n",
    "n = 1000\n",
    "# columns : Ticker, Strategy, Qty and ea_date\n",
    "data = {\n",
    "    'Ticker': np.random.choice(symbols, n),\n",
    "    'ea_date': [datetime.now() - timedelta(days=random.randint(0, 13)) for _ in range(n)],\n",
    "    'Strategy': np.random.choice(strategies, n),\n",
    "    'Qty': np.random.randint(1, 1000, n)\n",
    "    }"
   ]
  },
  {
   "cell_type": "code",
   "execution_count": 3,
   "id": "1383f0ba-c8c5-4141-9bde-0447874188d2",
   "metadata": {},
   "outputs": [],
   "source": [
    "# Create DataFrame\n",
    "df = pd.DataFrame(data)\n",
    "# Drop the time part from the date column\n",
    "df['ea_date'] = df['ea_date'].dt.date"
   ]
  },
  {
   "cell_type": "markdown",
   "id": "f1360b80-df37-4f27-a575-96af46b1bf2d",
   "metadata": {},
   "source": [
    "#### format raw data to date indexed dataframe for given dates"
   ]
  },
  {
   "cell_type": "code",
   "execution_count": 4,
   "id": "4bddeb04-4a69-4b5f-81cf-3e77778caa2d",
   "metadata": {},
   "outputs": [],
   "source": [
    "def format_dateidx(df, dates, dtcol='ea_date', df_cols = ['Ticker', 'Strategy', 'Qty', 'ea_date']):\n",
    "    df_list = []\n",
    "    for date in dates:\n",
    "        df2  = df[df[dtcol]==date]\n",
    "        df3 = df2[df_cols]\n",
    "        df3.columns = pd.MultiIndex.from_product([[date], df_cols])\n",
    "        df3 = df3.drop(dtcol, axis = 1, level = 1)\n",
    "        # print(df3)\n",
    "        df_list.append(df3)\n",
    "        \n",
    "    df_res = df_list[0]\n",
    "    for i in range(len(df_list)-1):\n",
    "        df_res = pd.concat([df_res, df_list[i+1]], axis=0, ignore_index=True)\n",
    "        \n",
    "    df_sorted = df_res.copy()\n",
    "    for date in dates:\n",
    "    \tdf_sorted[date] = df_sorted[date].sort_values(by='Ticker').reset_index(drop=True)\n",
    "    df_sorted = df_sorted.dropna(axis = 0, how = 'all')\n",
    "    df_sorted = df_sorted.fillna(\"\") \n",
    "    return df_sorted"
   ]
  },
  {
   "cell_type": "code",
   "execution_count": 5,
   "id": "1ca979d8-27d1-4284-8671-2b52eaac0621",
   "metadata": {},
   "outputs": [],
   "source": [
    "dates = df['ea_date'].drop_duplicates().tolist()\n",
    "dates.sort()\n",
    "n = 5\n",
    "datesl = [dates[i:i+n] for i in range(0, len(dates), n)]"
   ]
  },
  {
   "cell_type": "code",
   "execution_count": 6,
   "id": "96bee38c-1966-4e3d-a676-df259d74c38b",
   "metadata": {},
   "outputs": [],
   "source": [
    "fdfl = []\n",
    "for x in datesl:\n",
    "    fdfl.append(format_dateidx(df, x))"
   ]
  },
  {
   "cell_type": "markdown",
   "id": "8b0d0eb3-5e4c-48aa-87a1-f74b616ba35c",
   "metadata": {},
   "source": [
    "#### dataframe to html format 1 "
   ]
  },
  {
   "cell_type": "code",
   "execution_count": 7,
   "id": "5a9beab9-2807-43a5-bc7a-e3614c4dd0b2",
   "metadata": {},
   "outputs": [],
   "source": [
    "from IPython.display import display, HTML"
   ]
  },
  {
   "cell_type": "code",
   "execution_count": 8,
   "id": "3986d5b2-c338-4196-a897-c3cbc5f1ad70",
   "metadata": {},
   "outputs": [],
   "source": [
    "def append_table(df, carry_html=None):\n",
    "    # Convert DataFrame to HTML\n",
    "    html = df.to_html()\n",
    "    \n",
    "    # Create HTML with CSS for scrollable table\n",
    "    scrollable_html = f\"\"\"\n",
    "    <style>\n",
    "        .scrollable-table {{\n",
    "            max-height: 400px;\n",
    "            overflow-y: scroll;\n",
    "            overflow-x: scroll;\n",
    "            display: block;\n",
    "        }}\n",
    "        table {{\n",
    "            width: 100%;\n",
    "            border-collapse: collapse;\n",
    "        }}\n",
    "        th, td {{\n",
    "            border: 1px solid black;\n",
    "            padding: 5px;\n",
    "            text-align: left;\n",
    "        }}\n",
    "    </style>\n",
    "    <div class=\"scrollable-table\">\n",
    "        {html}\n",
    "    </div>\n",
    "    \"\"\"\n",
    "\n",
    "    if carry_html:\n",
    "        scrollable_html = carry_html + scrollable_html \n",
    "    return scrollable_html"
   ]
  },
  {
   "cell_type": "code",
   "execution_count": 9,
   "id": "009f1900-4a4c-46bd-a77d-1ae92b0ac8f8",
   "metadata": {},
   "outputs": [],
   "source": [
    "html = '''\n",
    "    <p style=\"color:rgba(0,0,0,1);\">Hi. some text for you to insert</p>\n",
    "'''\n",
    "i = 1\n",
    "for x in fdfl:\n",
    "    html += f\"<p style=\\\"color:rgba(0,0,0,1);\\\">TABLE {i}</p>\"\n",
    "    html = append_table(x, html)\n",
    "    i+=1\n",
    "\n",
    "# with open('saving.html', 'w+') as f:\n",
    "#     f.write(html)"
   ]
  },
  {
   "cell_type": "markdown",
   "id": "7457b964-555c-49db-b43a-f69368c5bdd1",
   "metadata": {},
   "source": [
    "#### dataframe to html format 2"
   ]
  },
  {
   "cell_type": "code",
   "execution_count": 11,
   "id": "c3a9ae69-24f1-4909-b75c-7d503c9e4fb1",
   "metadata": {},
   "outputs": [],
   "source": [
    "from pretty_html_table import build_table\n",
    "\n",
    "html = '''\n",
    "    <p style=\"color:rgba(0,0,0,1);\">Hi. some text for you to insert</p>\n",
    "'''\n",
    "i = 1\n",
    "for x in fdfl:\n",
    "    html += f\"<p style=\\\"color:rgba(0,0,0,1);\\\">TABLE {i}</p>\"\n",
    "    i+=1\n",
    "    html += build_table(x, 'blue_light')\n",
    "\n",
    "# with open('saving.html', 'w+') as f:\n",
    "#     f.write(html)"
   ]
  },
  {
   "cell_type": "markdown",
   "id": "296ac8d0-2624-4cb1-a2dd-4486ac056a38",
   "metadata": {},
   "source": [
    "### email"
   ]
  },
  {
   "cell_type": "code",
   "execution_count": 12,
   "id": "9889e6fc-a2fa-4a20-8a06-3385d025f754",
   "metadata": {},
   "outputs": [],
   "source": [
    "import os\n",
    "import ssl\n",
    "import smtplib\n",
    "from email.message import EmailMessage\n",
    "from email.mime.multipart import MIMEMultipart\n",
    "from email.mime.text import MIMEText"
   ]
  },
  {
   "cell_type": "code",
   "execution_count": null,
   "id": "52ab9eb6-df10-48b5-addd-bc163d13b88c",
   "metadata": {},
   "outputs": [],
   "source": [
    "sender = \"ohboy3947@gmail.com\"\n",
    "password = \"GMAIL_PASSWORD\"\n",
    "receiver = \"saurabhiitd3@gmail.com\""
   ]
  },
  {
   "cell_type": "code",
   "execution_count": null,
   "id": "b0e7eb3f-13dd-424d-a672-3c7210d93aae",
   "metadata": {},
   "outputs": [],
   "source": [
    "c = datetime.now()\n",
    "current_time = c.strftime('%H:%M:%S')\n",
    "subject = \"test format : \" + current_time"
   ]
  },
  {
   "cell_type": "code",
   "execution_count": null,
   "id": "612a94da-57a4-4ee4-86bf-eaf7f9e78e56",
   "metadata": {},
   "outputs": [],
   "source": [
    "msg = MIMEMultipart('alternative')\n",
    "msg['Subject'] = subject\n",
    "msg['From'] = sender\n",
    "msg['To'] = receiver"
   ]
  },
  {
   "cell_type": "code",
   "execution_count": null,
   "id": "8032c077-e67e-4e1a-a06d-3b194f700dba",
   "metadata": {},
   "outputs": [],
   "source": [
    "msg.attach(MIMEText(html, 'html'))"
   ]
  },
  {
   "cell_type": "code",
   "execution_count": null,
   "id": "eeae3d6f-8856-42b4-8f4e-99907b879fc1",
   "metadata": {},
   "outputs": [],
   "source": [
    "context = ssl.create_default_context()\n",
    "smtp = smtplib.SMTP_SSL('smtp.gmail.com', 465, context=context)"
   ]
  },
  {
   "cell_type": "code",
   "execution_count": null,
   "id": "b8c6fdef-1813-4671-91e4-94a8bc7ea301",
   "metadata": {},
   "outputs": [],
   "source": [
    "smtp.login(sender, password)"
   ]
  },
  {
   "cell_type": "code",
   "execution_count": null,
   "id": "bf6740f8-3ae1-4220-a92b-ca07b4b90617",
   "metadata": {},
   "outputs": [],
   "source": [
    "smtp.sendmail(sender, receiver, msg.as_string())"
   ]
  },
  {
   "cell_type": "code",
   "execution_count": null,
   "id": "4e010595-8731-4a3c-a236-3aea3137e15c",
   "metadata": {},
   "outputs": [],
   "source": []
  },
  {
   "cell_type": "code",
   "execution_count": null,
   "id": "d218ca50-3bd3-4093-a38d-09e516ea47e8",
   "metadata": {},
   "outputs": [],
   "source": []
  },
  {
   "cell_type": "code",
   "execution_count": null,
   "id": "2b93ec1a-a2f8-45ad-b6b2-daa20725ef4a",
   "metadata": {},
   "outputs": [],
   "source": []
  }
 ],
 "metadata": {
  "kernelspec": {
   "display_name": "Python 3 (ipykernel)",
   "language": "python",
   "name": "python3"
  },
  "language_info": {
   "codemirror_mode": {
    "name": "ipython",
    "version": 3
   },
   "file_extension": ".py",
   "mimetype": "text/x-python",
   "name": "python",
   "nbconvert_exporter": "python",
   "pygments_lexer": "ipython3",
   "version": "3.10.12"
  }
 },
 "nbformat": 4,
 "nbformat_minor": 5
}
